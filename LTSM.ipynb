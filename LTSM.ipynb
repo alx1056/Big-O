{
  "nbformat": 4,
  "nbformat_minor": 0,
  "metadata": {
    "colab": {
      "name": "LTSM.ipynb",
      "provenance": [],
      "collapsed_sections": [],
      "authorship_tag": "ABX9TyMJZzuZw8BpWXufuByUNbta",
      "include_colab_link": true
    },
    "kernelspec": {
      "name": "python3",
      "display_name": "Python 3"
    }
  },
  "cells": [
    {
      "cell_type": "markdown",
      "metadata": {
        "id": "view-in-github",
        "colab_type": "text"
      },
      "source": [
        "<a href=\"https://colab.research.google.com/github/alx1056/Big-O/blob/master/LTSM.ipynb\" target=\"_parent\"><img src=\"https://colab.research.google.com/assets/colab-badge.svg\" alt=\"Open In Colab\"/></a>"
      ]
    },
    {
      "cell_type": "code",
      "metadata": {
        "id": "LdVMuTSlICXP",
        "colab_type": "code",
        "colab": {}
      },
      "source": [
        "import pandas as pd\n",
        "import numpy as np\n",
        "import math\n",
        "import pandas_datareader as web\n",
        "import math\n",
        "from sklearn.preprocessing import MinMaxScaler\n",
        "from keras.models import Sequential\n",
        "from keras.layers import Dense, LSTM\n",
        "import matplotlib.pyplot as plt\n",
        "plt.style.use('fivethirtyeight')\n"
      ],
      "execution_count": 0,
      "outputs": []
    },
    {
      "cell_type": "code",
      "metadata": {
        "id": "zqLqDQUFIDTk",
        "colab_type": "code",
        "colab": {
          "base_uri": "https://localhost:8080/",
          "height": 431
        },
        "outputId": "9894d7db-bbe7-4cbe-827b-037535909f40"
      },
      "source": [
        "df = web.DataReader('AAPL', data_source='yahoo', start = '2016-01-01', end= '2020-02-10')\n",
        "df\n"
      ],
      "execution_count": 76,
      "outputs": [
        {
          "output_type": "execute_result",
          "data": {
            "text/html": [
              "<div>\n",
              "<style scoped>\n",
              "    .dataframe tbody tr th:only-of-type {\n",
              "        vertical-align: middle;\n",
              "    }\n",
              "\n",
              "    .dataframe tbody tr th {\n",
              "        vertical-align: top;\n",
              "    }\n",
              "\n",
              "    .dataframe thead th {\n",
              "        text-align: right;\n",
              "    }\n",
              "</style>\n",
              "<table border=\"1\" class=\"dataframe\">\n",
              "  <thead>\n",
              "    <tr style=\"text-align: right;\">\n",
              "      <th></th>\n",
              "      <th>High</th>\n",
              "      <th>Low</th>\n",
              "      <th>Open</th>\n",
              "      <th>Close</th>\n",
              "      <th>Volume</th>\n",
              "      <th>Adj Close</th>\n",
              "    </tr>\n",
              "    <tr>\n",
              "      <th>Date</th>\n",
              "      <th></th>\n",
              "      <th></th>\n",
              "      <th></th>\n",
              "      <th></th>\n",
              "      <th></th>\n",
              "      <th></th>\n",
              "    </tr>\n",
              "  </thead>\n",
              "  <tbody>\n",
              "    <tr>\n",
              "      <th>2016-01-04</th>\n",
              "      <td>105.370003</td>\n",
              "      <td>102.000000</td>\n",
              "      <td>102.610001</td>\n",
              "      <td>105.349998</td>\n",
              "      <td>67649400.0</td>\n",
              "      <td>98.213585</td>\n",
              "    </tr>\n",
              "    <tr>\n",
              "      <th>2016-01-05</th>\n",
              "      <td>105.849998</td>\n",
              "      <td>102.410004</td>\n",
              "      <td>105.750000</td>\n",
              "      <td>102.709999</td>\n",
              "      <td>55791000.0</td>\n",
              "      <td>95.752419</td>\n",
              "    </tr>\n",
              "    <tr>\n",
              "      <th>2016-01-06</th>\n",
              "      <td>102.370003</td>\n",
              "      <td>99.870003</td>\n",
              "      <td>100.559998</td>\n",
              "      <td>100.699997</td>\n",
              "      <td>68457400.0</td>\n",
              "      <td>93.878586</td>\n",
              "    </tr>\n",
              "    <tr>\n",
              "      <th>2016-01-07</th>\n",
              "      <td>100.129997</td>\n",
              "      <td>96.430000</td>\n",
              "      <td>98.680000</td>\n",
              "      <td>96.449997</td>\n",
              "      <td>81094400.0</td>\n",
              "      <td>89.916473</td>\n",
              "    </tr>\n",
              "    <tr>\n",
              "      <th>2016-01-08</th>\n",
              "      <td>99.110001</td>\n",
              "      <td>96.760002</td>\n",
              "      <td>98.550003</td>\n",
              "      <td>96.959999</td>\n",
              "      <td>70798000.0</td>\n",
              "      <td>90.391907</td>\n",
              "    </tr>\n",
              "    <tr>\n",
              "      <th>...</th>\n",
              "      <td>...</td>\n",
              "      <td>...</td>\n",
              "      <td>...</td>\n",
              "      <td>...</td>\n",
              "      <td>...</td>\n",
              "      <td>...</td>\n",
              "    </tr>\n",
              "    <tr>\n",
              "      <th>2020-02-04</th>\n",
              "      <td>319.640015</td>\n",
              "      <td>313.630005</td>\n",
              "      <td>315.309998</td>\n",
              "      <td>318.850006</td>\n",
              "      <td>34154100.0</td>\n",
              "      <td>318.095062</td>\n",
              "    </tr>\n",
              "    <tr>\n",
              "      <th>2020-02-05</th>\n",
              "      <td>324.760010</td>\n",
              "      <td>318.950012</td>\n",
              "      <td>323.519989</td>\n",
              "      <td>321.450012</td>\n",
              "      <td>29706700.0</td>\n",
              "      <td>320.688934</td>\n",
              "    </tr>\n",
              "    <tr>\n",
              "      <th>2020-02-06</th>\n",
              "      <td>325.220001</td>\n",
              "      <td>320.260010</td>\n",
              "      <td>322.570007</td>\n",
              "      <td>325.209991</td>\n",
              "      <td>26356400.0</td>\n",
              "      <td>324.440002</td>\n",
              "    </tr>\n",
              "    <tr>\n",
              "      <th>2020-02-07</th>\n",
              "      <td>323.399994</td>\n",
              "      <td>318.000000</td>\n",
              "      <td>322.369995</td>\n",
              "      <td>320.029999</td>\n",
              "      <td>29421000.0</td>\n",
              "      <td>320.029999</td>\n",
              "    </tr>\n",
              "    <tr>\n",
              "      <th>2020-02-10</th>\n",
              "      <td>321.549988</td>\n",
              "      <td>313.850006</td>\n",
              "      <td>314.179993</td>\n",
              "      <td>321.549988</td>\n",
              "      <td>27337200.0</td>\n",
              "      <td>321.549988</td>\n",
              "    </tr>\n",
              "  </tbody>\n",
              "</table>\n",
              "<p>1033 rows × 6 columns</p>\n",
              "</div>"
            ],
            "text/plain": [
              "                  High         Low  ...      Volume   Adj Close\n",
              "Date                                ...                        \n",
              "2016-01-04  105.370003  102.000000  ...  67649400.0   98.213585\n",
              "2016-01-05  105.849998  102.410004  ...  55791000.0   95.752419\n",
              "2016-01-06  102.370003   99.870003  ...  68457400.0   93.878586\n",
              "2016-01-07  100.129997   96.430000  ...  81094400.0   89.916473\n",
              "2016-01-08   99.110001   96.760002  ...  70798000.0   90.391907\n",
              "...                ...         ...  ...         ...         ...\n",
              "2020-02-04  319.640015  313.630005  ...  34154100.0  318.095062\n",
              "2020-02-05  324.760010  318.950012  ...  29706700.0  320.688934\n",
              "2020-02-06  325.220001  320.260010  ...  26356400.0  324.440002\n",
              "2020-02-07  323.399994  318.000000  ...  29421000.0  320.029999\n",
              "2020-02-10  321.549988  313.850006  ...  27337200.0  321.549988\n",
              "\n",
              "[1033 rows x 6 columns]"
            ]
          },
          "metadata": {
            "tags": []
          },
          "execution_count": 76
        }
      ]
    },
    {
      "cell_type": "code",
      "metadata": {
        "id": "Q1h1UzA7IDpP",
        "colab_type": "code",
        "colab": {
          "base_uri": "https://localhost:8080/",
          "height": 558
        },
        "outputId": "d5ec0d01-ac38-4023-f7aa-e77315eefb2e"
      },
      "source": [
        "#Visualize the closing price history\n",
        "plt.figure(figsize=(16,8))\n",
        "plt.title('Close Price History')\n",
        "plt.plot(df['Close'])\n",
        "plt.xlabel('Date', fontsize=18)\n",
        "plt.ylabel('Close Price USD ($)', fontsize=18)\n",
        "plt.show()"
      ],
      "execution_count": 77,
      "outputs": [
        {
          "output_type": "display_data",
          "data": {
            "image/png": "[encoded data removed]",
            "text/plain": [
              "<Figure size 1152x576 with 1 Axes>"
            ]
          },
          "metadata": {
            "tags": []
          }
        }
      ]
    },
    {
      "cell_type": "code",
      "metadata": {
        "id": "NeZZ_3MGKaqN",
        "colab_type": "code",
        "colab": {
          "base_uri": "https://localhost:8080/",
          "height": 34
        },
        "outputId": "c9622406-099c-4b4c-e4cb-da837cc66a26"
      },
      "source": [
        "#Create a new dataframe with only the 'Close column\n",
        "data = df.filter(['Close'])\n",
        "#Convert the dataframe to a numpy array\n",
        "dataset = data.values\n",
        "#Get the number of rows to train the model on\n",
        "training_data_len = math.ceil( len(dataset) * .8 )\n",
        "\n",
        "training_data_len"
      ],
      "execution_count": 78,
      "outputs": [
        {
          "output_type": "execute_result",
          "data": {
            "text/plain": [
              "827"
            ]
          },
          "metadata": {
            "tags": []
          },
          "execution_count": 78
        }
      ]
    },
    {
      "cell_type": "code",
      "metadata": {
        "id": "8zPFuNJLKa_y",
        "colab_type": "code",
        "colab": {
          "base_uri": "https://localhost:8080/",
          "height": 134
        },
        "outputId": "2f85eab2-9d88-4016-eafc-f7b269e0baab"
      },
      "source": [
        "#Scale the data\n",
        "scaler = MinMaxScaler(feature_range=(0,1))\n",
        "scaled_data = scaler.fit_transform(dataset)\n",
        "\n",
        "scaled_data"
      ],
      "execution_count": 79,
      "outputs": [
        {
          "output_type": "execute_result",
          "data": {
            "text/plain": [
              "array([[0.0639077 ],\n",
              "       [0.05266745],\n",
              "       [0.04410951],\n",
              "       ...,\n",
              "       [1.        ],\n",
              "       [0.97794528],\n",
              "       [0.9844169 ]])"
            ]
          },
          "metadata": {
            "tags": []
          },
          "execution_count": 79
        }
      ]
    },
    {
      "cell_type": "code",
      "metadata": {
        "id": "8ABCzPhxKbCY",
        "colab_type": "code",
        "colab": {
          "base_uri": "https://localhost:8080/",
          "height": 672
        },
        "outputId": "e135a658-f2dc-4c1e-a244-e1bb38ebc648"
      },
      "source": [
        "#Create the training data set\n",
        "#Create the scaled training data set\n",
        "train_data = scaled_data[0:training_data_len , :]\n",
        "#Split the data into x_train and y_train data sets\n",
        "x_train = []\n",
        "y_train = []\n",
        "\n",
        "for i in range(60, len(train_data)):\n",
        "  x_train.append(train_data[i-60:i, 0])\n",
        "  y_train.append(train_data[i, 0])\n",
        "  if i<= 61:\n",
        "    print(x_train)\n",
        "    print(y_train)\n",
        "    print()"
      ],
      "execution_count": 80,
      "outputs": [
        {
          "output_type": "stream",
          "text": [
            "[array([0.0639077 , 0.05266745, 0.04410951, 0.02601439, 0.02818582,\n",
            "       0.03487036, 0.04095884, 0.03001662, 0.03908545, 0.02890961,\n",
            "       0.02690853, 0.02746202, 0.02537577, 0.04717504, 0.03874486,\n",
            "       0.04108657, 0.01311365, 0.01596628, 0.02980372, 0.02592925,\n",
            "       0.0176268 , 0.02558863, 0.02665305, 0.01566824, 0.01988336,\n",
            "       0.01979819, 0.01673266, 0.01430579, 0.01554052, 0.02682336,\n",
            "       0.03312474, 0.02520546, 0.02426876, 0.0278452 , 0.01852091,\n",
            "       0.02452421, 0.0273343 , 0.02797295, 0.02703626, 0.04338571,\n",
            "       0.04432241, 0.04751566, 0.05394476, 0.04909101, 0.04551455,\n",
            "       0.04589776, 0.04611062, 0.05075151, 0.05185848, 0.06062931,\n",
            "       0.06654747, 0.06582368, 0.06633458, 0.06629202, 0.06974073,\n",
            "       0.06722868, 0.06527016, 0.06322649, 0.07382809, 0.08183251])]\n",
            "[0.07940563679312701]\n",
            "\n",
            "[array([0.0639077 , 0.05266745, 0.04410951, 0.02601439, 0.02818582,\n",
            "       0.03487036, 0.04095884, 0.03001662, 0.03908545, 0.02890961,\n",
            "       0.02690853, 0.02746202, 0.02537577, 0.04717504, 0.03874486,\n",
            "       0.04108657, 0.01311365, 0.01596628, 0.02980372, 0.02592925,\n",
            "       0.0176268 , 0.02558863, 0.02665305, 0.01566824, 0.01988336,\n",
            "       0.01979819, 0.01673266, 0.01430579, 0.01554052, 0.02682336,\n",
            "       0.03312474, 0.02520546, 0.02426876, 0.0278452 , 0.01852091,\n",
            "       0.02452421, 0.0273343 , 0.02797295, 0.02703626, 0.04338571,\n",
            "       0.04432241, 0.04751566, 0.05394476, 0.04909101, 0.04551455,\n",
            "       0.04589776, 0.04611062, 0.05075151, 0.05185848, 0.06062931,\n",
            "       0.06654747, 0.06582368, 0.06633458, 0.06629202, 0.06974073,\n",
            "       0.06722868, 0.06527016, 0.06322649, 0.07382809, 0.08183251]), array([0.05266745, 0.04410951, 0.02601439, 0.02818582, 0.03487036,\n",
            "       0.04095884, 0.03001662, 0.03908545, 0.02890961, 0.02690853,\n",
            "       0.02746202, 0.02537577, 0.04717504, 0.03874486, 0.04108657,\n",
            "       0.01311365, 0.01596628, 0.02980372, 0.02592925, 0.0176268 ,\n",
            "       0.02558863, 0.02665305, 0.01566824, 0.01988336, 0.01979819,\n",
            "       0.01673266, 0.01430579, 0.01554052, 0.02682336, 0.03312474,\n",
            "       0.02520546, 0.02426876, 0.0278452 , 0.01852091, 0.02452421,\n",
            "       0.0273343 , 0.02797295, 0.02703626, 0.04338571, 0.04432241,\n",
            "       0.04751566, 0.05394476, 0.04909101, 0.04551455, 0.04589776,\n",
            "       0.04611062, 0.05075151, 0.05185848, 0.06062931, 0.06654747,\n",
            "       0.06582368, 0.06633458, 0.06629202, 0.06974073, 0.06722868,\n",
            "       0.06527016, 0.06322649, 0.07382809, 0.08183251, 0.07940564])]\n",
            "[0.07940563679312701, 0.08366331133985255]\n",
            "\n"
          ],
          "name": "stdout"
        }
      ]
    },
    {
      "cell_type": "code",
      "metadata": {
        "id": "gzscmrJnKkmC",
        "colab_type": "code",
        "colab": {
          "base_uri": "https://localhost:8080/",
          "height": 34
        },
        "outputId": "ea1e8615-065e-49e7-9aff-0797cdd153ba"
      },
      "source": [
        "\n",
        "#Convert the x_train and y_train to numpy arrays \n",
        "x_train, y_train = np.array(x_train), np.array(y_train)\n",
        "\n",
        "#Reshape the data\n",
        "x_train = np.reshape(x_train, (x_train.shape[0], x_train.shape[1], 1))\n",
        "x_train.shape"
      ],
      "execution_count": 81,
      "outputs": [
        {
          "output_type": "execute_result",
          "data": {
            "text/plain": [
              "(767, 60, 1)"
            ]
          },
          "metadata": {
            "tags": []
          },
          "execution_count": 81
        }
      ]
    },
    {
      "cell_type": "code",
      "metadata": {
        "id": "x6beMa7FKkoZ",
        "colab_type": "code",
        "colab": {}
      },
      "source": [
        "#Build the LSTM model\n",
        "model = Sequential()\n",
        "model.add(LSTM(50, return_sequences=True, input_shape= (x_train.shape[1], 1)))\n",
        "model.add(LSTM(50, return_sequences= False))\n",
        "model.add(Dense(25))\n",
        "model.add(Dense(1))"
      ],
      "execution_count": 0,
      "outputs": []
    },
    {
      "cell_type": "code",
      "metadata": {
        "id": "4FCOPvX4KkvI",
        "colab_type": "code",
        "colab": {
          "base_uri": "https://localhost:8080/",
          "height": 67
        },
        "outputId": "21bc57a4-3012-4112-e928-5c1aef57c99a"
      },
      "source": [
        "\n",
        "#Compile the model\n",
        "model.compile(optimizer='adam', loss='mean_squared_error')\n",
        "\n",
        "\n",
        "#Train the model\n",
        "model.fit(x_train, y_train, batch_size=1, epochs=1)"
      ],
      "execution_count": 83,
      "outputs": [
        {
          "output_type": "stream",
          "text": [
            "Epoch 1/1\n",
            "767/767 [==============================] - 58s 76ms/step - loss: 0.0015\n"
          ],
          "name": "stdout"
        },
        {
          "output_type": "execute_result",
          "data": {
            "text/plain": [
              "<keras.callbacks.History at 0x7f07e4d163c8>"
            ]
          },
          "metadata": {
            "tags": []
          },
          "execution_count": 83
        }
      ]
    },
    {
      "cell_type": "code",
      "metadata": {
        "id": "F_peQtqwKkxT",
        "colab_type": "code",
        "colab": {}
      },
      "source": [
        "\n",
        "#Create the testing data set\n",
        "#Create a new array containing scaled values from index 1543 to 2002 \n",
        "test_data = scaled_data[training_data_len - 60: , :]\n",
        "#Create the data sets x_test and y_test\n",
        "x_test = []\n",
        "y_test = dataset[training_data_len:, :]\n",
        "for i in range(60, len(test_data)):\n",
        "  x_test.append(test_data[i-60:i, 0])             "
      ],
      "execution_count": 0,
      "outputs": []
    },
    {
      "cell_type": "code",
      "metadata": {
        "id": "4QAKHy-6KkzX",
        "colab_type": "code",
        "colab": {
          "base_uri": "https://localhost:8080/",
          "height": 34
        },
        "outputId": "bd5c18a6-b058-40d9-c59f-67b102077acb"
      },
      "source": [
        "\n",
        "#Convert the data to a numpy array\n",
        "x_test = np.array(x_test)\n",
        "\n",
        "#Reshape the data\n",
        "x_test = np.reshape(x_test, (x_test.shape[0], x_test.shape[1], 1 ))\n",
        "\n",
        "\n",
        "#Get the models predicted price values \n",
        "predictions = model.predict(x_test)\n",
        "predictions = scaler.inverse_transform(predictions)\n",
        "\n",
        "#Get the root mean squared error (RMSE)\n",
        "rmse=np.sqrt(np.mean(((predictions- y_test)**2)))\n",
        "rmse"
      ],
      "execution_count": 85,
      "outputs": [
        {
          "output_type": "execute_result",
          "data": {
            "text/plain": [
              "6.3737369196469675"
            ]
          },
          "metadata": {
            "tags": []
          },
          "execution_count": 85
        }
      ]
    },
    {
      "cell_type": "code",
      "metadata": {
        "id": "rzTSEd7LK5tL",
        "colab_type": "code",
        "colab": {
          "base_uri": "https://localhost:8080/",
          "height": 659
        },
        "outputId": "86376ce4-143b-4246-d23d-759faffa0c6e"
      },
      "source": [
        "#Plot the data\n",
        "train = data[:training_data_len]\n",
        "valid = data[training_data_len:]\n",
        "valid['Predictions'] = predictions\n",
        "#Visualize the data\n",
        "plt.figure(figsize=(16,8))\n",
        "plt.title('Model')\n",
        "plt.xlabel('Date', fontsize=18)\n",
        "plt.ylabel('Close Price USD ($)', fontsize=18)\n",
        "plt.plot(train['Close'])\n",
        "plt.plot(valid[['Close', 'Predictions']])\n",
        "plt.legend(['Train', 'Val', 'Predictions'], loc='lower right')\n",
        "plt.show()"
      ],
      "execution_count": 86,
      "outputs": [
        {
          "output_type": "stream",
          "text": [
            "/usr/local/lib/python3.6/dist-packages/ipykernel_launcher.py:3: SettingWithCopyWarning: \n",
            "A value is trying to be set on a copy of a slice from a DataFrame.\n",
            "Try using .loc[row_indexer,col_indexer] = value instead\n",
            "\n",
            "See the caveats in the documentation: http://pandas.pydata.org/pandas-docs/stable/user_guide/indexing.html#returning-a-view-versus-a-copy\n",
            "  This is separate from the ipykernel package so we can avoid doing imports until\n"
          ],
          "name": "stderr"
        },
        {
          "output_type": "display_data",
          "data": {
            "image/png": "[encoded data removed]",
            "text/plain": [
              "<Figure size 1152x576 with 1 Axes>"
            ]
          },
          "metadata": {
            "tags": []
          }
        }
      ]
    },
    {
      "cell_type": "code",
      "metadata": {
        "id": "CpEd4u_bK5xJ",
        "colab_type": "code",
        "colab": {
          "base_uri": "https://localhost:8080/",
          "height": 431
        },
        "outputId": "9abaf3f7-55e6-40db-efba-5a1f0a6753cb"
      },
      "source": [
        "#Show the valid and predicted prices\n",
        "valid"
      ],
      "execution_count": 87,
      "outputs": [
        {
          "output_type": "execute_result",
          "data": {
            "text/html": [
              "<div>\n",
              "<style scoped>\n",
              "    .dataframe tbody tr th:only-of-type {\n",
              "        vertical-align: middle;\n",
              "    }\n",
              "\n",
              "    .dataframe tbody tr th {\n",
              "        vertical-align: top;\n",
              "    }\n",
              "\n",
              "    .dataframe thead th {\n",
              "        text-align: right;\n",
              "    }\n",
              "</style>\n",
              "<table border=\"1\" class=\"dataframe\">\n",
              "  <thead>\n",
              "    <tr style=\"text-align: right;\">\n",
              "      <th></th>\n",
              "      <th>Close</th>\n",
              "      <th>Predictions</th>\n",
              "    </tr>\n",
              "    <tr>\n",
              "      <th>Date</th>\n",
              "      <th></th>\n",
              "      <th></th>\n",
              "    </tr>\n",
              "  </thead>\n",
              "  <tbody>\n",
              "    <tr>\n",
              "      <th>2019-04-17</th>\n",
              "      <td>203.130005</td>\n",
              "      <td>202.278732</td>\n",
              "    </tr>\n",
              "    <tr>\n",
              "      <th>2019-04-18</th>\n",
              "      <td>203.860001</td>\n",
              "      <td>202.818283</td>\n",
              "    </tr>\n",
              "    <tr>\n",
              "      <th>2019-04-22</th>\n",
              "      <td>204.529999</td>\n",
              "      <td>203.518509</td>\n",
              "    </tr>\n",
              "    <tr>\n",
              "      <th>2019-04-23</th>\n",
              "      <td>207.479996</td>\n",
              "      <td>204.314514</td>\n",
              "    </tr>\n",
              "    <tr>\n",
              "      <th>2019-04-24</th>\n",
              "      <td>207.160004</td>\n",
              "      <td>205.380661</td>\n",
              "    </tr>\n",
              "    <tr>\n",
              "      <th>...</th>\n",
              "      <td>...</td>\n",
              "      <td>...</td>\n",
              "    </tr>\n",
              "    <tr>\n",
              "      <th>2020-02-04</th>\n",
              "      <td>318.850006</td>\n",
              "      <td>311.281006</td>\n",
              "    </tr>\n",
              "    <tr>\n",
              "      <th>2020-02-05</th>\n",
              "      <td>321.450012</td>\n",
              "      <td>310.761139</td>\n",
              "    </tr>\n",
              "    <tr>\n",
              "      <th>2020-02-06</th>\n",
              "      <td>325.209991</td>\n",
              "      <td>310.928650</td>\n",
              "    </tr>\n",
              "    <tr>\n",
              "      <th>2020-02-07</th>\n",
              "      <td>320.029999</td>\n",
              "      <td>311.862885</td>\n",
              "    </tr>\n",
              "    <tr>\n",
              "      <th>2020-02-10</th>\n",
              "      <td>321.549988</td>\n",
              "      <td>312.606934</td>\n",
              "    </tr>\n",
              "  </tbody>\n",
              "</table>\n",
              "<p>206 rows × 2 columns</p>\n",
              "</div>"
            ],
            "text/plain": [
              "                 Close  Predictions\n",
              "Date                               \n",
              "2019-04-17  203.130005   202.278732\n",
              "2019-04-18  203.860001   202.818283\n",
              "2019-04-22  204.529999   203.518509\n",
              "2019-04-23  207.479996   204.314514\n",
              "2019-04-24  207.160004   205.380661\n",
              "...                ...          ...\n",
              "2020-02-04  318.850006   311.281006\n",
              "2020-02-05  321.450012   310.761139\n",
              "2020-02-06  325.209991   310.928650\n",
              "2020-02-07  320.029999   311.862885\n",
              "2020-02-10  321.549988   312.606934\n",
              "\n",
              "[206 rows x 2 columns]"
            ]
          },
          "metadata": {
            "tags": []
          },
          "execution_count": 87
        }
      ]
    },
    {
      "cell_type": "code",
      "metadata": {
        "id": "qKpTjetKK9-j",
        "colab_type": "code",
        "colab": {
          "base_uri": "https://localhost:8080/",
          "height": 34
        },
        "outputId": "33193fce-c6ab-4355-9429-a38a5e3ad82b"
      },
      "source": [
        "#Get the quote\n",
        "apple_quote = web.DataReader('AAPL', data_source='yahoo', start='2012-01-01', end='2019-12-17')\n",
        "#Create a new dataframe\n",
        "new_df = apple_quote.filter(['Close'])\n",
        "#Get teh last 60 day closing price values and convert the dataframe to an array\n",
        "last_60_days = new_df[-60:].values\n",
        "#Scale the data to be values between 0 and 1\n",
        "last_60_days_scaled = scaler.transform(last_60_days)\n",
        "#Create an empty list\n",
        "X_test = []\n",
        "#Append teh past 60 days\n",
        "X_test.append(last_60_days_scaled)\n",
        "#Convert the X_test data set to a numpy array\n",
        "X_test = np.array(X_test)\n",
        "#Reshape the data\n",
        "X_test = np.reshape(X_test, (X_test.shape[0], X_test.shape[1], 1))\n",
        "#Get the predicted scaled price\n",
        "pred_price = model.predict(X_test)\n",
        "#undo the scaling \n",
        "pred_price = scaler.inverse_transform(pred_price)\n",
        "print(pred_price)"
      ],
      "execution_count": 88,
      "outputs": [
        {
          "output_type": "stream",
          "text": [
            "[[272.74606]]\n"
          ],
          "name": "stdout"
        }
      ]
    },
    {
      "cell_type": "code",
      "metadata": {
        "id": "xzaAauvSLCQM",
        "colab_type": "code",
        "colab": {
          "base_uri": "https://localhost:8080/",
          "height": 84
        },
        "outputId": "c052495c-e09c-4b7c-b100-b1587f56fc66"
      },
      "source": [
        "#Get the quote\n",
        "apple_quote2 = web.DataReader('AAPL', data_source='yahoo', start='2020-02-10', end='2020-02-11')\n",
        "print(apple_quote2['Close'])"
      ],
      "execution_count": 91,
      "outputs": [
        {
          "output_type": "stream",
          "text": [
            "Date\n",
            "2020-02-10    321.549988\n",
            "2020-02-11    319.609985\n",
            "Name: Close, dtype: float64\n"
          ],
          "name": "stdout"
        }
      ]
    }
  ]
}